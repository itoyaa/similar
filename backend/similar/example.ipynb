{
 "cells": [
  {
   "cell_type": "code",
   "execution_count": 2,
   "metadata": {},
   "outputs": [],
   "source": []
  },
  {
   "cell_type": "code",
   "execution_count": 7,
   "metadata": {},
   "outputs": [],
   "source": []
  },
  {
   "cell_type": "code",
   "execution_count": 27,
   "metadata": {},
   "outputs": [],
   "source": [
    "import pandas as pd\n",
    "ANSWER = pd.read_csv('/Users/itoya/Downloads/words.csv', index_col='Unnamed: 0')\n",
    "POSSIBLE_WORDS = set(ANSWER.index)\n",
    "class Similarity:\n",
    "    def __init__(self, game_num: int):\n",
    "        assert isinstance(game_num, int)\n",
    "        game_num = game_num % 1000\n",
    "        self.answer = ANSWER.columns[game_num]\n",
    "\n",
    "    def guess_word(self, guess: str):\n",
    "        guess = guess.lower().strip()\n",
    "        if guess not in POSSIBLE_WORDS:\n",
    "            return 'No such word'\n",
    "        if guess == self.answer:\n",
    "            return 'You win!'\n",
    "        return ANSWER.loc[guess, self.answer]"
   ]
  },
  {
   "cell_type": "code",
   "execution_count": 34,
   "metadata": {},
   "outputs": [
    {
     "data": {
      "text/plain": [
       "Unnamed: 0\n",
       "проблема          0.788080\n",
       "мотивация         0.790216\n",
       "аналогия          0.796774\n",
       "ситуация          0.803659\n",
       "практика          0.809725\n",
       "тяга              0.811343\n",
       "дифференциация    0.813397\n",
       "идеология         0.837764\n",
       "структура         0.839998\n",
       "традиция          0.850507\n",
       "наклонность       0.853153\n",
       "направленность    0.858569\n",
       "ориентация        0.862520\n",
       "особенность       0.874110\n",
       "конкуренция       0.907463\n",
       "закономерность    0.916663\n",
       "стремление        0.925382\n",
       "концепция         0.981352\n",
       "склонность        1.000000\n",
       "Name: тенденция, dtype: float64"
      ]
     },
     "execution_count": 34,
     "metadata": {},
     "output_type": "execute_result"
    }
   ],
   "source": [
    "ANSWER[ANSWER.columns[101]].sort_values().iloc[-20:-1]"
   ]
  },
  {
   "cell_type": "code",
   "execution_count": 28,
   "metadata": {},
   "outputs": [],
   "source": [
    "game = Game(42)"
   ]
  },
  {
   "cell_type": "code",
   "execution_count": 29,
   "metadata": {},
   "outputs": [
    {
     "name": "stdout",
     "output_type": "stream",
     "text": [
      "0.0583173846914235\n"
     ]
    }
   ],
   "source": [
    "a = 'соска'\n",
    "res = game.guess_word(a)\n",
    "print(res)"
   ]
  },
  {
   "cell_type": "code",
   "execution_count": 2,
   "metadata": {},
   "outputs": [
    {
     "name": "stdout",
     "output_type": "stream",
     "text": [
      "Defaulting to user installation because normal site-packages is not writeable\n",
      "Requirement already satisfied: pandas in /Users/itoya/Library/Python/3.8/lib/python/site-packages (2.0.2)\n",
      "Requirement already satisfied: python-dateutil>=2.8.2 in /Users/itoya/Library/Python/3.8/lib/python/site-packages (from pandas) (2.8.2)\n",
      "Requirement already satisfied: pytz>=2020.1 in /Users/itoya/Library/Python/3.8/lib/python/site-packages (from pandas) (2023.3)\n",
      "Requirement already satisfied: tzdata>=2022.1 in /Users/itoya/Library/Python/3.8/lib/python/site-packages (from pandas) (2023.3)\n",
      "Requirement already satisfied: numpy>=1.20.3 in /Users/itoya/Library/Python/3.8/lib/python/site-packages (from pandas) (1.24.3)\n",
      "Requirement already satisfied: six>=1.5 in /Library/Developer/CommandLineTools/Library/Frameworks/Python3.framework/Versions/3.8/lib/python3.8/site-packages (from python-dateutil>=2.8.2->pandas) (1.15.0)\n"
     ]
    }
   ],
   "source": [
    "!pip3 install pandas"
   ]
  },
  {
   "cell_type": "code",
   "execution_count": null,
   "metadata": {},
   "outputs": [],
   "source": []
  }
 ],
 "metadata": {
  "kernelspec": {
   "display_name": "Python 3",
   "language": "python",
   "name": "python3"
  },
  "language_info": {
   "codemirror_mode": {
    "name": "ipython",
    "version": 3
   },
   "file_extension": ".py",
   "mimetype": "text/x-python",
   "name": "python",
   "nbconvert_exporter": "python",
   "pygments_lexer": "ipython3",
   "version": "3.8.9"
  },
  "orig_nbformat": 4
 },
 "nbformat": 4,
 "nbformat_minor": 2
}
