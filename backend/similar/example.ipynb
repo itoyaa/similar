{
 "cells": [
  {
   "cell_type": "code",
   "execution_count": 2,
   "metadata": {},
   "outputs": [],
   "source": []
  },
  {
   "cell_type": "code",
   "execution_count": 7,
   "metadata": {},
   "outputs": [],
   "source": []
  },
  {
   "cell_type": "code",
   "execution_count": 2,
   "metadata": {},
   "outputs": [],
   "source": [
    "import pandas as pd\n",
    "ANSWER = pd.read_csv('/Users/itoya/Downloads/words_for_for_masha.csv', index_col='Unnamed: 0')\n",
    "POSSIBLE_WORDS = set(ANSWER.index)\n",
    "class Similarity:\n",
    "    def __init__(self, game_num: int):\n",
    "        assert isinstance(game_num, int)\n",
    "        game_num = game_num % 1000\n",
    "        self.answer = ANSWER.columns[game_num]\n",
    "\n",
    "    def guess_word(self, guess: str):\n",
    "        guess = guess.lower().strip()\n",
    "        if guess not in POSSIBLE_WORDS:\n",
    "            return 'No such word'\n",
    "        if guess == self.answer:\n",
    "            return 'You win!'\n",
    "        return ANSWER.loc[guess, self.answer]"
   ]
  },
  {
   "cell_type": "code",
   "execution_count": 5,
   "metadata": {},
   "outputs": [
    {
     "data": {
      "text/plain": [
       "Unnamed: 0\n",
       "капсула         0.720064\n",
       "понятие         0.722072\n",
       "галактика       0.727092\n",
       "окружность      0.728661\n",
       "организация     0.729714\n",
       "индустрия       0.734717\n",
       "пентаграмма     0.735045\n",
       "третья          0.737169\n",
       "культура        0.745034\n",
       "область         0.745900\n",
       "наука           0.751292\n",
       "пирамида        0.753481\n",
       "круг            0.756701\n",
       "материя         0.756859\n",
       "философия       0.761865\n",
       "совокупность    0.762159\n",
       "спираль         0.775987\n",
       "сущность        0.778531\n",
       "плоскость       0.786788\n",
       "сторона         0.787644\n",
       "основа          0.789046\n",
       "категория       0.799096\n",
       "экономика       0.800151\n",
       "шар             0.800294\n",
       "концепция       0.805111\n",
       "аура            0.810122\n",
       "энергия         0.810593\n",
       "форма           0.822489\n",
       "субстанция      0.841144\n",
       "полусфера       0.849408\n",
       "составляющая    0.864034\n",
       "система         0.871926\n",
       "зона            0.877406\n",
       "вселенная       0.883957\n",
       "планета         0.910112\n",
       "точка           0.945336\n",
       "проекция        0.949161\n",
       "структура       0.993135\n",
       "оболочка        1.000000\n",
       "Name: сфера, dtype: float64"
      ]
     },
     "execution_count": 5,
     "metadata": {},
     "output_type": "execute_result"
    }
   ],
   "source": [
    "ANSWER[ANSWER.columns[0]].sort_values().iloc[-40:-1]"
   ]
  },
  {
   "cell_type": "code",
   "execution_count": 28,
   "metadata": {},
   "outputs": [],
   "source": [
    "game = Game(42)"
   ]
  },
  {
   "cell_type": "code",
   "execution_count": 29,
   "metadata": {},
   "outputs": [
    {
     "name": "stdout",
     "output_type": "stream",
     "text": [
      "0.0583173846914235\n"
     ]
    }
   ],
   "source": [
    "a = 'соска'\n",
    "res = game.guess_word(a)\n",
    "print(res)"
   ]
  },
  {
   "cell_type": "code",
   "execution_count": 2,
   "metadata": {},
   "outputs": [
    {
     "name": "stdout",
     "output_type": "stream",
     "text": [
      "Defaulting to user installation because normal site-packages is not writeable\n",
      "Requirement already satisfied: pandas in /Users/itoya/Library/Python/3.8/lib/python/site-packages (2.0.2)\n",
      "Requirement already satisfied: python-dateutil>=2.8.2 in /Users/itoya/Library/Python/3.8/lib/python/site-packages (from pandas) (2.8.2)\n",
      "Requirement already satisfied: pytz>=2020.1 in /Users/itoya/Library/Python/3.8/lib/python/site-packages (from pandas) (2023.3)\n",
      "Requirement already satisfied: tzdata>=2022.1 in /Users/itoya/Library/Python/3.8/lib/python/site-packages (from pandas) (2023.3)\n",
      "Requirement already satisfied: numpy>=1.20.3 in /Users/itoya/Library/Python/3.8/lib/python/site-packages (from pandas) (1.24.3)\n",
      "Requirement already satisfied: six>=1.5 in /Library/Developer/CommandLineTools/Library/Frameworks/Python3.framework/Versions/3.8/lib/python3.8/site-packages (from python-dateutil>=2.8.2->pandas) (1.15.0)\n"
     ]
    }
   ],
   "source": [
    "!pip3 install pandas"
   ]
  },
  {
   "cell_type": "code",
   "execution_count": null,
   "metadata": {},
   "outputs": [],
   "source": []
  }
 ],
 "metadata": {
  "kernelspec": {
   "display_name": "Python 3",
   "language": "python",
   "name": "python3"
  },
  "language_info": {
   "codemirror_mode": {
    "name": "ipython",
    "version": 3
   },
   "file_extension": ".py",
   "mimetype": "text/x-python",
   "name": "python",
   "nbconvert_exporter": "python",
   "pygments_lexer": "ipython3",
   "version": "3.8.9"
  },
  "orig_nbformat": 4
 },
 "nbformat": 4,
 "nbformat_minor": 2
}
