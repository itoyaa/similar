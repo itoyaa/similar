{
 "cells": [
  {
   "cell_type": "code",
   "execution_count": 2,
   "metadata": {},
   "outputs": [],
   "source": []
  },
  {
   "cell_type": "code",
   "execution_count": 7,
   "metadata": {},
   "outputs": [],
   "source": []
  },
  {
   "cell_type": "code",
   "execution_count": 27,
   "metadata": {},
   "outputs": [],
   "source": [
    "import pandas as pd\n",
    "ANSWER = pd.read_csv('/Users/itoya/Downloads/words.csv', index_col='Unnamed: 0')\n",
    "POSSIBLE_WORDS = set(ANSWER.index)\n",
    "class Similarity:\n",
    "    def __init__(self, game_num: int):\n",
    "        assert isinstance(game_num, int)\n",
    "        game_num = game_num % 1000\n",
    "        self.answer = ANSWER.columns[game_num]\n",
    "\n",
    "    def guess_word(self, guess: str):\n",
    "        guess = guess.lower().strip()\n",
    "        if guess not in POSSIBLE_WORDS:\n",
    "            return 'No such word'\n",
    "        if guess == self.answer:\n",
    "            return 'You win!'\n",
    "        return ANSWER.loc[guess, self.answer]"
   ]
  },
  {
   "cell_type": "code",
   "execution_count": 36,
   "metadata": {},
   "outputs": [
    {
     "data": {
      "text/plain": [
       "Unnamed: 0\n",
       "угроза            0.627276\n",
       "сфера             0.632151\n",
       "забота            0.634236\n",
       "восстановление    0.635684\n",
       "стратегия         0.638702\n",
       "практика          0.640164\n",
       "сохранение        0.648874\n",
       "задача            0.649753\n",
       "обеспечение       0.654791\n",
       "кольчуга          0.661198\n",
       "регенерация       0.662200\n",
       "подготовка        0.665180\n",
       "страховка         0.669327\n",
       "изоляция          0.669654\n",
       "самозащита        0.669786\n",
       "стена             0.672402\n",
       "преграда          0.673523\n",
       "основа            0.682252\n",
       "проверка          0.683271\n",
       "функция           0.696105\n",
       "реакция           0.699579\n",
       "программа         0.714590\n",
       "установка         0.714725\n",
       "блокировка        0.716908\n",
       "позиция           0.722615\n",
       "маскировка        0.727770\n",
       "защитник          0.728064\n",
       "сила              0.739706\n",
       "атака             0.762658\n",
       "система           0.767773\n",
       "гарантия          0.787631\n",
       "щит               0.800208\n",
       "магия             0.825089\n",
       "охрана            0.829124\n",
       "безопасность      0.832862\n",
       "опора             0.834865\n",
       "оборона           0.893618\n",
       "поддержка         0.930303\n",
       "броня             1.000000\n",
       "Name: защита, dtype: float64"
      ]
     },
     "execution_count": 36,
     "metadata": {},
     "output_type": "execute_result"
    }
   ],
   "source": [
    "ANSWER[ANSWER.columns[28]].sort_values().iloc[-40:-1]"
   ]
  },
  {
   "cell_type": "code",
   "execution_count": 28,
   "metadata": {},
   "outputs": [],
   "source": [
    "game = Game(42)"
   ]
  },
  {
   "cell_type": "code",
   "execution_count": 29,
   "metadata": {},
   "outputs": [
    {
     "name": "stdout",
     "output_type": "stream",
     "text": [
      "0.0583173846914235\n"
     ]
    }
   ],
   "source": [
    "a = 'соска'\n",
    "res = game.guess_word(a)\n",
    "print(res)"
   ]
  },
  {
   "cell_type": "code",
   "execution_count": 2,
   "metadata": {},
   "outputs": [
    {
     "name": "stdout",
     "output_type": "stream",
     "text": [
      "Defaulting to user installation because normal site-packages is not writeable\n",
      "Requirement already satisfied: pandas in /Users/itoya/Library/Python/3.8/lib/python/site-packages (2.0.2)\n",
      "Requirement already satisfied: python-dateutil>=2.8.2 in /Users/itoya/Library/Python/3.8/lib/python/site-packages (from pandas) (2.8.2)\n",
      "Requirement already satisfied: pytz>=2020.1 in /Users/itoya/Library/Python/3.8/lib/python/site-packages (from pandas) (2023.3)\n",
      "Requirement already satisfied: tzdata>=2022.1 in /Users/itoya/Library/Python/3.8/lib/python/site-packages (from pandas) (2023.3)\n",
      "Requirement already satisfied: numpy>=1.20.3 in /Users/itoya/Library/Python/3.8/lib/python/site-packages (from pandas) (1.24.3)\n",
      "Requirement already satisfied: six>=1.5 in /Library/Developer/CommandLineTools/Library/Frameworks/Python3.framework/Versions/3.8/lib/python3.8/site-packages (from python-dateutil>=2.8.2->pandas) (1.15.0)\n"
     ]
    }
   ],
   "source": [
    "!pip3 install pandas"
   ]
  },
  {
   "cell_type": "code",
   "execution_count": null,
   "metadata": {},
   "outputs": [],
   "source": []
  }
 ],
 "metadata": {
  "kernelspec": {
   "display_name": "Python 3",
   "language": "python",
   "name": "python3"
  },
  "language_info": {
   "codemirror_mode": {
    "name": "ipython",
    "version": 3
   },
   "file_extension": ".py",
   "mimetype": "text/x-python",
   "name": "python",
   "nbconvert_exporter": "python",
   "pygments_lexer": "ipython3",
   "version": "3.8.9"
  },
  "orig_nbformat": 4
 },
 "nbformat": 4,
 "nbformat_minor": 2
}
